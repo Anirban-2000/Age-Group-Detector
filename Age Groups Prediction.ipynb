{
 "cells": [
  {
   "cell_type": "code",
   "execution_count": 1,
   "metadata": {},
   "outputs": [],
   "source": [
    "import warnings\n",
    "warnings.filterwarnings('ignore')\n",
    "import os\n",
    "from cv2 import cv2\n",
    "import numpy as np\n",
    "import tensorflow as tf\n",
    "from matplotlib import pyplot as plt\n",
    "from tensorflow.keras.layers import Dense,MaxPooling2D,Conv2D,Flatten,Dropout,BatchNormalization,Input,Activation,Add\n",
    "from tensorflow.keras.models import Model\n",
    "from tensorflow.keras.regularizers import l2\n",
    "from tensorflow.keras.optimizers import Adam\n",
    "from tensorflow.keras.losses import SparseCategoricalCrossentropy\n",
    "from tensorflow.keras.metrics import SparseCategoricalAccuracy\n",
    "from tensorflow.keras.callbacks import ModelCheckpoint\n",
    "from sklearn.model_selection import train_test_split\n",
    "from sklearn.metrics import confusion_matrix,classification_report\n",
    "import seaborn as sns"
   ]
  },
  {
   "cell_type": "code",
   "execution_count": 2,
   "metadata": {},
   "outputs": [],
   "source": [
    "fldr=\"./UTKFace\"\n",
    "files=os.listdir(fldr)\n",
    "\n",
    "ages=[]\n",
    "genders=[]\n",
    "images=[]\n",
    "\n",
    "for fle in files:\n",
    "    age=int(fle.split('_')[0])\n",
    "    gender=int(fle.split('_')[1])\n",
    "    \n",
    "    total=fldr+'/'+fle\n",
    "    image=cv2.imread(total)\n",
    "    image=cv2.cvtColor(image,cv2.COLOR_BGR2RGB)\n",
    "    image=cv2.resize(image,(48,48))\n",
    "    \n",
    "    images.append(np.array(image))\n",
    "    ages.append(np.array(age))\n",
    "    genders.append(gender)\n",
    "    \n",
    "ages = np.array(ages)\n",
    "genders = np.array(genders)\n",
    "images=np.array(images)\n",
    "age_groups=np.where((ages>=0)&(ages<13),0,\n",
    "                    np.where((ages>=13)&(ages<20),1,\n",
    "                             np.where((ages>=20)&(ages<60),2,3)))\n",
    "\n",
    "np.save('/kaggle/working/image.npy',images)\n",
    "np.save('/kaggle/working/age.npy',ages)\n",
    "np.save('/kaggle/working/gender.npy',genders)\n",
    "np.save('/kaggle/working/age_group.npy',age_groups)"
   ]
  },
  {
   "cell_type": "code",
   "execution_count": 3,
   "metadata": {},
   "outputs": [],
   "source": [
    "labels=[]\n",
    "i=0\n",
    "while i<len(ages):\n",
    "    label=[]\n",
    "    label.append(ages[i])\n",
    "    label.append(genders[i])\n",
    "    label.append(age_groups[i])\n",
    "    labels.append(label)\n",
    "    i=i+1\n",
    "\n",
    "images_f=images/255\n",
    "labels=np.array(labels)"
   ]
  },
  {
   "cell_type": "code",
   "execution_count": 4,
   "metadata": {},
   "outputs": [],
   "source": [
    "X_train,X_val,Y_train,Y_val=train_test_split(images_f,labels,test_size=0.20)\n"
   ]
  },
  {
   "cell_type": "code",
   "execution_count": 7,
   "metadata": {},
   "outputs": [],
   "source": [
    "Y_train_2=[Y_train[:,0],Y_train[:,1],Y_train[:,2]]\n",
    "Y_val_2=[Y_val[:,0],Y_val[:,1],Y_val[:,2]]"
   ]
  },
  {
   "cell_type": "code",
   "execution_count": null,
   "metadata": {},
   "outputs": [],
   "source": [
    "def Convolution(input_tensor,filters):\n",
    "    x=Conv2D(filters=filters,kernel_size=(3,3),padding=\"same\",strides=(1,1),kernel_regularizer=l2(0.01))(input_tensor)\n",
    "    x=BatchNormalization()(x)\n",
    "    x=Dropout(0.1)(x)\n",
    "    x=Activation('relu')(x)\n",
    "    return x\n",
    "\n",
    "def model(input_shape):\n",
    "    inputs=Input((input_shape))\n",
    "    conv_1=Convolution(inputs,32)\n",
    "    maxp_1=MaxPooling2D(pool_size=(2,2))(conv_1)\n",
    "    conv_2=Convolution(maxp_1,64)\n",
    "    maxp_2=MaxPooling2D(pool_size=(2,2))(conv_2)\n",
    "    conv_3=Convolution(maxp_2,128)\n",
    "    maxp_3=MaxPooling2D(pool_size=(2,2))(conv_3)\n",
    "    conv_4=Convolution(maxp_3,256)\n",
    "    maxp_4=MaxPooling2D(pool_size=(2,2))(conv_4)\n",
    "    conv_5=Convolution(maxp_4,512)\n",
    "    maxp_5=MaxPooling2D(pool_size=(2,2))(conv_5)\n",
    "    flatten=Flatten()(maxp_5)\n",
    "    dense_1=Dense(128,activation='relu')(flatten)\n",
    "    dense_2=Dense(128,activation='relu')(flatten)\n",
    "    dense_3=Dense(128,activation='relu')(flatten)\n",
    "    drop_1=Dropout(0.3)(dense_1)\n",
    "    drop_2=Dropout(0.2)(dense_2)\n",
    "    drop_3=Dropout(0.3)(dense_3)\n",
    "    output_1=Dense(1,activation='linear',name='age_out')(drop_1)\n",
    "    output_2=Dense(1,activation='sigmoid',name='gender_out')(drop_2)\n",
    "    output_3=Dense(4,activation='softmax',name='category_out')(drop_3)\n",
    "    model=Model(inputs=[inputs],outputs=[output_1,output_2,output_3])\n",
    "    model.compile(loss=[\"mse\",\"binary_crossentropy\",\"SparseCategoricalCrossentropy\"],optimizer=Adam(learning_rate=0.001,clipnorm=1.0),metrics={'age_out':\"mae\",'gender_out':\"accuracy\",'category_out':\"SparseCategoricalAccuracy\"})\n",
    "    return model\n",
    "\n",
    "Model=model((48,48,3))\n",
    "Model.summary()"
   ]
  },
  {
   "cell_type": "code",
   "execution_count": null,
   "metadata": {},
   "outputs": [],
   "source": [
    "fle_s='Age_Group_Detection.h5'\n",
    "checkpoint=ModelCheckpoint(fle_s,monitor='val_loss',verbose=1,save_best_only=True,save_weights_only=False,mode='auto',save_freq='epoch')\n",
    "Early_stop=tf.keras.callbacks.EarlyStopping(patience=25,monitor='val_loss',restore_best_weights='True')\n",
    "callback_list=[checkpoint,Early_stop]\n",
    "History=Model.fit(X_train,Y_train_2,batch_size=64,validation_data=(X_val,Y_val_2),epochs=250,callbacks=callback_list)"
   ]
  },
  {
   "cell_type": "code",
   "execution_count": null,
   "metadata": {},
   "outputs": [],
   "source": [
    "Model.evaluate(X_val,Y_val_2)"
   ]
  },
  {
   "cell_type": "code",
   "execution_count": null,
   "metadata": {},
   "outputs": [],
   "source": [
    "pred=Model.predict(X_val)"
   ]
  },
  {
   "cell_type": "code",
   "execution_count": null,
   "metadata": {},
   "outputs": [],
   "source": [
    "plt.plot(History.history['loss'])\n",
    "plt.plot(History.history['val_loss'])\n",
    "plt.title('Model Loss')\n",
    "plt.xlabel=('Epoch')\n",
    "plt.ylabel=('Loss')\n",
    "plt.legend(['Train','Validation'],loc='upper left')\n",
    "plt.subplots_adjust(top=1.0,bottom=0.0,right=0.95,left=0,hspace=0.25,wspace=0.35)"
   ]
  },
  {
   "cell_type": "code",
   "execution_count": null,
   "metadata": {},
   "outputs": [],
   "source": [
    "plt.plot(History.history['age_out_mae'])\n",
    "plt.plot(History.history['val_age_out_mae'])\n",
    "plt.title('Model Accuracy')\n",
    "plt.xlabel=('Epoch')\n",
    "plt.ylabel=('Loss')\n",
    "plt.legend(['Train','Validation'],loc='upper left')\n",
    "plt.subplots_adjust(top=1.0,bottom=0.0,right=0.95,left=0,hspace=0.25,wspace=0.35)"
   ]
  },
  {
   "cell_type": "code",
   "execution_count": null,
   "metadata": {},
   "outputs": [],
   "source": [
    "plt.plot(History.history['gender_out_accuracy'])\n",
    "plt.plot(History.history['val_gender_out_accuracy'])\n",
    "plt.title('Model Accuracy')\n",
    "plt.xlabel=('Epoch')\n",
    "plt.ylabel=('Loss')\n",
    "plt.legend(['Train','Validation'],loc='upper left')\n",
    "plt.subplots_adjust(top=1.0,bottom=0.0,right=0.95,left=0,hspace=0.25,wspace=0.35)"
   ]
  },
  {
   "cell_type": "code",
   "execution_count": null,
   "metadata": {},
   "outputs": [],
   "source": [
    "fig,ax=plt.subplots()\n",
    "ax.scatter(Y_val_2[0],pred[0])\n",
    "ax.plot([Y_val_2[0].min(),Y_val_2[0].max()],[Y_val_2[0].min(),Y_val_2[0].max()],'k--',lw=4)\n",
    "ax.set_xlabel('Actual Age')\n",
    "ax.set_ylabel('Predicted Age')\n",
    "plt.show()"
   ]
  },
  {
   "cell_type": "code",
   "execution_count": null,
   "metadata": {},
   "outputs": [],
   "source": [
    "i=0\n",
    "Pred_l=[]\n",
    "while(i<len(pred[2])):\n",
    "    Pred_l.append(int(np.argmax(pred[2][i])))\n",
    "    i=i+1"
   ]
  },
  {
   "cell_type": "code",
   "execution_count": null,
   "metadata": {},
   "outputs": [],
   "source": [
    "report=classification_report(Y_val_2[2],Pred_l)\n",
    "print(report)"
   ]
  },
  {
   "cell_type": "code",
   "execution_count": null,
   "metadata": {},
   "outputs": [],
   "source": [
    "results=confusion_matrix(Y_val_2[2],Pred_l)\n",
    "sns.heatmap(results,annot=True,fmt='.0f')"
   ]
  },
  {
   "cell_type": "code",
   "execution_count": null,
   "metadata": {},
   "outputs": [],
   "source": [
    "def test_image(ind,images,images_f,Model):\n",
    "    plt.imshow(images[ind])\n",
    "    image_test=images_f[ind]\n",
    "    pred_l=Model.predict(np.array([image_test]))\n",
    "    gender_f=['Male','Female']\n",
    "    age=int(np.round(pred_l[0][0]))\n",
    "    gender=int(np.round(pred_l[1][0]))\n",
    "    category_f=['Child','Teenage','Adult','Aged']\n",
    "    category=int(np.argmax(pred_l[2]))\n",
    "    print(\"Predicted Age is \"+str(age)+\".\")\n",
    "    print(\"Predicted Gender is \"+gender_f[gender]+\".\")\n",
    "    print(\"Predicted Category is \"+category_f[category]+\".\")"
   ]
  },
  {
   "cell_type": "code",
   "execution_count": null,
   "metadata": {},
   "outputs": [],
   "source": [
    "test_image(4,images,images_f,Model)"
   ]
  },
  {
   "cell_type": "code",
   "execution_count": null,
   "metadata": {},
   "outputs": [],
   "source": [
    "test_image(457,images,images_f,Model)"
   ]
  },
  {
   "cell_type": "code",
   "execution_count": null,
   "metadata": {},
   "outputs": [],
   "source": [
    "test_image(3621,images,images_f,Model)"
   ]
  },
  {
   "cell_type": "code",
   "execution_count": null,
   "metadata": {},
   "outputs": [],
   "source": [
    "test_image(583,images,images_f,Model)"
   ]
  },
  {
   "cell_type": "code",
   "execution_count": null,
   "metadata": {},
   "outputs": [],
   "source": [
    "test_image(225,images,images_f,Model)"
   ]
  },
  {
   "cell_type": "code",
   "execution_count": null,
   "metadata": {},
   "outputs": [],
   "source": [
    "\n",
    "test_image(9,images,images_f,Model)"
   ]
  },
  {
   "cell_type": "code",
   "execution_count": null,
   "metadata": {},
   "outputs": [],
   "source": [
    "test_image(167,images,images_f,Model)"
   ]
  },
  {
   "cell_type": "code",
   "execution_count": null,
   "metadata": {},
   "outputs": [],
   "source": [
    "test_image(26,images,images_f,Model)"
   ]
  }
 ],
 "metadata": {
  "kernelspec": {
   "display_name": "Python 3",
   "language": "python",
   "name": "python3"
  },
  "language_info": {
   "codemirror_mode": {
    "name": "ipython",
    "version": 3
   },
   "file_extension": ".py",
   "mimetype": "text/x-python",
   "name": "python",
   "nbconvert_exporter": "python",
   "pygments_lexer": "ipython3",
   "version": "3.9.0"
  }
 },
 "nbformat": 4,
 "nbformat_minor": 2
}
